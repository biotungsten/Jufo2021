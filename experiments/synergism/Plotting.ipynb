{
 "cells": [
  {
   "cell_type": "code",
   "execution_count": 7,
   "metadata": {},
   "outputs": [],
   "source": [
    "import matplotlib.pyplot as plt\n",
    "import pandas as pd\n",
    "import numpy as np"
   ]
  },
  {
   "cell_type": "code",
   "execution_count": 15,
   "metadata": {},
   "outputs": [],
   "source": [
    "df = pd.read_csv(\"prediction-dev.csv\")\n",
    "aij = np.loadtxt(open(\"aij.csv\", \"r\"), delimiter=\",\")\n",
    "drugs = [\"CA\", \"RE\", \"HQ\", \"MA\"]"
   ]
  },
  {
   "cell_type": "code",
   "execution_count": 149,
   "metadata": {},
   "outputs": [
    {
     "name": "stderr",
     "output_type": "stream",
     "text": [
      "<ipython-input-149-80290fa9c427>:6: RuntimeWarning: divide by zero encountered in log10\n",
      "  img =ax.imshow(np.log10(aij), cmap='inferno')\n"
     ]
    },
    {
     "data": {
      "image/png": "[encoded data removed]",
      "text/plain": [
       "<Figure size 432x288 with 3 Axes>"
      ]
     },
     "metadata": {
      "needs_background": "light"
     },
     "output_type": "display_data"
    }
   ],
   "source": [
    "fig, axs = plt.subplots(nrows=1, ncols=2)\n",
    "\n",
    "plt.subplots_adjust(left=None, bottom=None, right=None, top=None, wspace=1.2, hspace=None)\n",
    "cax = fig.add_axes([0.40, 0.31, 0.03, 0.37])\n",
    "ax=axs[0]\n",
    "img =ax.imshow(np.log10(aij), cmap='inferno')\n",
    "fig.colorbar(img, cax=cax, orientation='vertical')\n",
    "\n",
    "ax.set_xticks(range(0,4))\n",
    "ax.set_xticklabels(drugs)\n",
    "ax.set_yticks(range(0,4))\n",
    "ax.set_yticklabels(drugs)\n",
    "ax.text(-1.8,0,\"a)\", fontweight=\"bold\")\n",
    "ax=axs[1]\n",
    "ax.set_aspect('equal')\n",
    "\n",
    "ax.plot(df[\"experiment\"], df[\"model\"], \"b+\", ms=2.5, mew=0.5)\n",
    "ax.plot(df[\"experiment\"], df[\"bliss\"], \"ro\", ms=2.5, fillstyle='none', mew=0.5)\n",
    "ax.plot([0,1], [0,1], \"k\", linewidth=0.5)\n",
    "ax.set_xlim(xmin=0, xmax=1)\n",
    "ax.set_ylim(ymin=0, ymax=1)\n",
    "ax.set_xlabel(\"Experiment\")\n",
    "ax.set_ylabel(\"Modell\")\n",
    "ax.text(-0.5,0.9,\"b)\", fontweight=\"bold\")\n",
    "fig.savefig(\"combined.png\", dpi=400, bbox_inches=\"tight\")"
   ]
  }
 ],
 "metadata": {
  "kernelspec": {
   "display_name": "Python 3",
   "language": "python",
   "name": "python3"
  },
  "language_info": {
   "codemirror_mode": {
    "name": "ipython",
    "version": 3
   },
   "file_extension": ".py",
   "mimetype": "text/x-python",
   "name": "python",
   "nbconvert_exporter": "python",
   "pygments_lexer": "ipython3",
   "version": "3.8.3"
  }
 },
 "nbformat": 4,
 "nbformat_minor": 4
}
