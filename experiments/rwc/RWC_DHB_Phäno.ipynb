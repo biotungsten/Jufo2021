{
 "cells": [
  {
   "cell_type": "code",
   "execution_count": 1,
   "metadata": {},
   "outputs": [],
   "source": [
    "import numpy as np\n",
    "import csv\n",
    "import matplotlib.pyplot as plt\n",
    "import os\n",
    "import itertools\n",
    "import scipy.stats as stats"
   ]
  },
  {
   "cell_type": "code",
   "execution_count": 2,
   "metadata": {},
   "outputs": [],
   "source": [
    "data_path = \"/csv/\"\n",
    "cwd = os.getcwd()\n",
    "files = [f for f in os.listdir(cwd+data_path) if os.path.isfile(f)==False and f not in []] #add \"t1.csv\" in empty ls t remove first measurement"
   ]
  },
  {
   "cell_type": "code",
   "execution_count": 3,
   "metadata": {},
   "outputs": [],
   "source": [
    "def calculate_rwc(dw, hw, fw):\n",
    "    return ((fw-dw)/(hw-dw))\n",
    "\n",
    "def calculate_real_dw(dw, aluw):\n",
    "    return dw-aluw\n",
    "\n",
    "def calculate_rwc_from_row(row):\n",
    "    fresh_weight = float(row[3])\n",
    "    rehydrated_weight = float(row[4])\n",
    "    alu_weight = float(row[2]) - rehydrated_weight\n",
    "    dry_weight = calculate_real_dw(float(row[5]), alu_weight)\n",
    "    return calculate_rwc(dry_weight, rehydrated_weight, fresh_weight)\n",
    "\n",
    "def n2k(name): #name to key\n",
    "    first_l = name[0]\n",
    "    if len(name)>3:\n",
    "        return \"CTRL\"\n",
    "    elif first_l == \"C\":\n",
    "        return \"CA\"\n",
    "    elif first_l == \"R\":\n",
    "        return \"RE\"\n",
    "    elif first_l == \"H\":\n",
    "        return \"HQ\"\n",
    "    \n",
    "def tp2t(timepoint): #timepoint to time\n",
    "    number = int(timepoint[1])\n",
    "    if number == 1:\n",
    "        return 3\n",
    "    elif number == 2:\n",
    "        return 6\n",
    "    elif number == 3:\n",
    "        return 24\n",
    "    elif number == 4:\n",
    "        return 27\n",
    "    elif number == 5:\n",
    "        return 30\n",
    "    \n",
    "def t2tp(number): #time to timepoint\n",
    "    if number == 3:\n",
    "        return \"t1\"\n",
    "    elif number == 6:\n",
    "        return \"t2\"\n",
    "    elif number == 24:\n",
    "        return \"t3\"\n",
    "    elif number == 27:\n",
    "        return \"t4\"\n",
    "    elif number == 30:\n",
    "        return \"t5\"\n",
    "    \n",
    "def sort_by_ascending_time(time, *args): #returns tuple with sorted lists\n",
    "    sorted_time = sorted(time)\n",
    "    transform = [None]*len(time)\n",
    "    ret = [sorted_time]\n",
    "    for idx, n in enumerate(sorted_time):\n",
    "        transform[time.index(n)]=idx#\n",
    "    for lst in args:\n",
    "        new_lst = [None]*len(time)\n",
    "        for idx, n in enumerate(lst):\n",
    "            new_lst[transform[idx]] = n\n",
    "        ret.append(new_lst)\n",
    "    return tuple(ret)"
   ]
  },
  {
   "cell_type": "code",
   "execution_count": 4,
   "metadata": {
    "scrolled": false
   },
   "outputs": [],
   "source": [
    "rwc_datapoints = {\"CA\": {}, \"RE\": {}, \"HQ\": {}, \"CTRL\": {}}\n",
    "cols=[\"b\", \"g\", \"r\", \"k\"]\n",
    "for file in files:\n",
    "    timepoint = file.split(\".\")[0]\n",
    "    with open(cwd+data_path+file) as csvfile:\n",
    "        reader = csv.reader(csvfile, delimiter=';')\n",
    "        next(reader)\n",
    "        for row in reader:\n",
    "            name = row[0]\n",
    "            rwc = calculate_rwc_from_row(row)\n",
    "            try:\n",
    "                len(rwc_datapoints[n2k(name)][timepoint])\n",
    "                rwc_datapoints[n2k(name)][timepoint].append(rwc)\n",
    "            except:\n",
    "                rwc_datapoints[n2k(name)][timepoint] = [rwc]"
   ]
  },
  {
   "cell_type": "code",
   "execution_count": 5,
   "metadata": {},
   "outputs": [
    {
     "data": {
      "image/png": "[encoded data removed]",
      "text/plain": [
       "<Figure size 432x288 with 1 Axes>"
      ]
     },
     "metadata": {
      "needs_background": "light"
     },
     "output_type": "display_data"
    }
   ],
   "source": [
    "fig, ax = plt.subplots(1,1)\n",
    "cols=[\"b\", \"g\", \"r\", \"k\"]\n",
    "col_idx=0\n",
    "ax.set_xlim([2, 31])\n",
    "ax.set_xlabel(\"Zeit seit Anwendung [h]\")\n",
    "ax.set_ylabel(\"RWC [%]\")\n",
    "ax.set_ylim([0.4,1.0])\n",
    "ax.set_yticklabels([40,50,60,70,80,90,100])\n",
    "for substance, val in rwc_datapoints.items():\n",
    "    _rwc = [np.mean(rwcs) for _, rwcs in val.items()]\n",
    "    _err = [np.std(rwcs, ddof=0) for _, rwcs in val.items()]\n",
    "    _t = [tp2t(key) for key, _ in val.items()]\n",
    "    t,rwc,err = sort_by_ascending_time(_t, _rwc, _err)\n",
    "    ax.errorbar(t, rwc, label=substance, yerr=err,capsize=5, fmt=cols[col_idx])\n",
    "    col_idx+=1\n",
    "    lgd=ax.legend(frameon=False, ncol=4)\n",
    "    ax.annotate(\"*\", (29.7,0.53), c=\"g\") #p=0.0133\n",
    "fig.savefig(\"figure.png\", dpi=500, bbox_extra_artists=(lgd))"
   ]
  },
  {
   "cell_type": "markdown",
   "metadata": {},
   "source": [
    "# Statistics"
   ]
  },
  {
   "cell_type": "code",
   "execution_count": 6,
   "metadata": {},
   "outputs": [
    {
     "name": "stdout",
     "output_type": "stream",
     "text": [
      "\n",
      "\n",
      "CA\n",
      "t3 0.0929\n",
      "t2 0.1259\n",
      "t1 0.1552\n",
      "t5 0.4979\n",
      "t4 0.4379\n",
      "\n",
      "\n",
      "RE\n",
      "t3 0.0549\n",
      "t2 0.1123\n",
      "t1 0.2536\n",
      "t5 0.0133\n",
      "t4 0.292\n",
      "\n",
      "\n",
      "HQ\n",
      "t3 0.203\n",
      "t2 0.0668\n",
      "t1 0.2776\n",
      "t5 0.2946\n",
      "t4 0.3839\n",
      "\n",
      "\n",
      "CTRL\n",
      "t3 0.5\n",
      "t2 0.5\n",
      "t1 0.5\n",
      "t5 0.5\n",
      "t4 0.5\n"
     ]
    }
   ],
   "source": [
    "for substance, val in rwc_datapoints.items():\n",
    "    print(\"\\n\\n\"+ substance)\n",
    "    for time, rwcs in val.items():\n",
    "        ctrl = rwc_datapoints[\"CTRL\"][time]\n",
    "        res2 = stats.ttest_ind_from_stats(np.mean(rwcs), np.std(rwcs), 3, np.mean(ctrl), np.std(ctrl), 3, equal_var=False)\n",
    "        print(time+ f\" {round(res2.pvalue/2, 4)}\")"
   ]
  }
 ],
 "metadata": {
  "kernelspec": {
   "display_name": "Python 3",
   "language": "python",
   "name": "python3"
  },
  "language_info": {
   "codemirror_mode": {
    "name": "ipython",
    "version": 3
   },
   "file_extension": ".py",
   "mimetype": "text/x-python",
   "name": "python",
   "nbconvert_exporter": "python",
   "pygments_lexer": "ipython3",
   "version": "3.8.3"
  }
 },
 "nbformat": 4,
 "nbformat_minor": 4
}
